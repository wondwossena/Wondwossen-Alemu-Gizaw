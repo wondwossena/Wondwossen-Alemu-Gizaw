{
 "cells": [
  {
   "cell_type": "raw",
   "id": "04163755",
   "metadata": {},
   "source": [
    "\n",
    "DataFrame\n",
    "\n",
    "    What is spark dataframe?                                                                                                                                                                         \n"
   ]
  },
  {
   "cell_type": "code",
   "execution_count": 1,
   "id": "f0455daf",
   "metadata": {},
   "outputs": [],
   "source": [
    "# Initialize the spark on jupyter notebook\n",
    "\n",
    "import findspark\n",
    "findspark.init()\n",
    "\n",
    "\n",
    "# To create the dataframe in pyspark \n",
    "\n",
    "from pyspark.sql import SparkSession\n"
   ]
  },
  {
   "cell_type": "code",
   "execution_count": 2,
   "id": "dae2a7e6",
   "metadata": {},
   "outputs": [],
   "source": [
    "# Initializing the sparksesstion \n",
    "\n",
    "spark = SparkSession \\\n",
    "    .builder \\\n",
    "    .appName(\"Python Spark SQL for FOOD-DATA-GROUP1\") \\\n",
    "    .config(\"spark.some.config.option\", \"some-value\") \\\n",
    "    .getOrCreate()"
   ]
  },
  {
   "cell_type": "code",
   "execution_count": 3,
   "id": "5a68bd7e",
   "metadata": {},
   "outputs": [],
   "source": [
    "# Reading the csv file in pyspark \n",
    "\n",
    "df = spark.read.csv(r'C:\\Users\\Wondwossen\\Desktop\\FINAL FOOD DATASET\\FOOD-DATA-GROUP1.csv')"
   ]
  },
  {
   "cell_type": "code",
   "execution_count": 5,
   "id": "00da676c",
   "metadata": {},
   "outputs": [
    {
     "name": "stdout",
     "output_type": "stream",
     "text": [
      "+----+----------+------------+-------------+---+--------------+--------------------+--------------------+-------------+------+-------+-------------+-----------+------+-----+---------+----------+-----------+-----------+----------+----------+----------+----------+---------+---------+---------+---------+-------+------+-----+---------+---------+----------+---------+--------+-----+-----------------+\n",
      "| _c0|       _c1|         _c2|          _c3|_c4|           _c5|                 _c6|                 _c7|          _c8|   _c9|   _c10|         _c11|       _c12|  _c13| _c14|     _c15|      _c16|       _c17|       _c18|      _c19|      _c20|      _c21|      _c22|     _c23|     _c24|     _c25|     _c26|   _c27|  _c28| _c29|     _c30|     _c31|      _c32|     _c33|    _c34| _c35|             _c36|\n",
      "+----+----------+------------+-------------+---+--------------+--------------------+--------------------+-------------+------+-------+-------------+-----------+------+-----+---------+----------+-----------+-----------+----------+----------+----------+----------+---------+---------+---------+---------+-------+------+-----+---------+---------+----------+---------+--------+-----+-----------------+\n",
      "|NULL|Unnamed: 0|        food|Caloric Value|Fat|Saturated Fats|Monounsaturated Fats|Polyunsaturated Fats|Carbohydrates|Sugars|Protein|Dietary Fiber|Cholesterol|Sodium|Water|Vitamin A|Vitamin B1|Vitamin B11|Vitamin B12|Vitamin B2|Vitamin B3|Vitamin B5|Vitamin B6|Vitamin C|Vitamin D|Vitamin E|Vitamin K|Calcium|Copper| Iron|Magnesium|Manganese|Phosphorus|Potassium|Selenium| Zinc|Nutrition Density|\n",
      "|   0|         0|cream cheese|           51|  5|           2.9|                 1.3|                 0.2|          0.8|   0.5|    0.9|            0|       14.6| 0.016|  7.6|      0.2|     0.033|      0.064|      0.092|     0.097|     0.084|     0.052|     0.096|    0.004|        0|        0|      0.1|  0.008|  14.1|0.082|    0.027|      1.3|     0.091|     15.5|    19.1|0.039|             7.07|\n",
      "+----+----------+------------+-------------+---+--------------+--------------------+--------------------+-------------+------+-------+-------------+-----------+------+-----+---------+----------+-----------+-----------+----------+----------+----------+----------+---------+---------+---------+---------+-------+------+-----+---------+---------+----------+---------+--------+-----+-----------------+\n",
      "only showing top 2 rows\n",
      "\n"
     ]
    }
   ],
   "source": [
    "# Show shows the first few entries in the dataframe \n",
    "# Notice that the column names are not good \n",
    "\n",
    "df.show(2)\n"
   ]
  },
  {
   "cell_type": "code",
   "execution_count": 6,
   "id": "49240203",
   "metadata": {},
   "outputs": [
    {
     "name": "stdout",
     "output_type": "stream",
     "text": [
      "root\n",
      " |-- _c0: string (nullable = true)\n",
      " |-- _c1: string (nullable = true)\n",
      " |-- _c2: string (nullable = true)\n",
      " |-- _c3: string (nullable = true)\n",
      " |-- _c4: string (nullable = true)\n",
      " |-- _c5: string (nullable = true)\n",
      " |-- _c6: string (nullable = true)\n",
      " |-- _c7: string (nullable = true)\n",
      " |-- _c8: string (nullable = true)\n",
      " |-- _c9: string (nullable = true)\n",
      " |-- _c10: string (nullable = true)\n",
      " |-- _c11: string (nullable = true)\n",
      " |-- _c12: string (nullable = true)\n",
      " |-- _c13: string (nullable = true)\n",
      " |-- _c14: string (nullable = true)\n",
      " |-- _c15: string (nullable = true)\n",
      " |-- _c16: string (nullable = true)\n",
      " |-- _c17: string (nullable = true)\n",
      " |-- _c18: string (nullable = true)\n",
      " |-- _c19: string (nullable = true)\n",
      " |-- _c20: string (nullable = true)\n",
      " |-- _c21: string (nullable = true)\n",
      " |-- _c22: string (nullable = true)\n",
      " |-- _c23: string (nullable = true)\n",
      " |-- _c24: string (nullable = true)\n",
      " |-- _c25: string (nullable = true)\n",
      " |-- _c26: string (nullable = true)\n",
      " |-- _c27: string (nullable = true)\n",
      " |-- _c28: string (nullable = true)\n",
      " |-- _c29: string (nullable = true)\n",
      " |-- _c30: string (nullable = true)\n",
      " |-- _c31: string (nullable = true)\n",
      " |-- _c32: string (nullable = true)\n",
      " |-- _c33: string (nullable = true)\n",
      " |-- _c34: string (nullable = true)\n",
      " |-- _c35: string (nullable = true)\n",
      " |-- _c36: string (nullable = true)\n",
      "\n"
     ]
    }
   ],
   "source": [
    "# What objects the dataframe contains?\n",
    "# Year and GDP are string. Sometimes they may cause problem. \n",
    "\n",
    "df.printSchema()\n"
   ]
  },
  {
   "cell_type": "code",
   "execution_count": 7,
   "id": "05699a39",
   "metadata": {},
   "outputs": [],
   "source": [
    "from pyspark.sql.types import StructType, StructField, StringType, IntegerType, FloatType\n",
    "\n",
    "schema = StructType([StructField('_c0', IntegerType(), True), \n",
    "                      StructField('food', StringType(), True), \n",
    "                      StructField('Caloric Value', IntegerType(), True), \n",
    "                      StructField('Fat', FloatType(), True)\n",
    "                     ])"
   ]
  },
  {
   "cell_type": "code",
   "execution_count": 10,
   "id": "5eb5a396",
   "metadata": {},
   "outputs": [
    {
     "name": "stdout",
     "output_type": "stream",
     "text": [
      "+---+----------+-----------------+-------------+----+--------------+--------------------+--------------------+-------------+------+-------+-------------+-----------+------+-----+---------+----------+-----------+-----------+----------+----------+----------+----------+---------+---------+---------+---------+-------+------+-----+---------+---------+----------+---------+--------+-----+-----------------+\n",
      "|_c0|Unnamed: 0|             food|Caloric Value| Fat|Saturated Fats|Monounsaturated Fats|Polyunsaturated Fats|Carbohydrates|Sugars|Protein|Dietary Fiber|Cholesterol|Sodium|Water|Vitamin A|Vitamin B1|Vitamin B11|Vitamin B12|Vitamin B2|Vitamin B3|Vitamin B5|Vitamin B6|Vitamin C|Vitamin D|Vitamin E|Vitamin K|Calcium|Copper| Iron|Magnesium|Manganese|Phosphorus|Potassium|Selenium| Zinc|Nutrition Density|\n",
      "+---+----------+-----------------+-------------+----+--------------+--------------------+--------------------+-------------+------+-------+-------------+-----------+------+-----+---------+----------+-----------+-----------+----------+----------+----------+----------+---------+---------+---------+---------+-------+------+-----+---------+---------+----------+---------+--------+-----+-----------------+\n",
      "|  0|         0|     cream cheese|           51| 5.0|           2.9|                 1.3|                 0.2|          0.8|   0.5|    0.9|          0.0|       14.6| 0.016|  7.6|      0.2|     0.033|      0.064|      0.092|     0.097|     0.084|     0.052|     0.096|    0.004|      0.0|      0.0|      0.1|  0.008|  14.1|0.082|    0.027|      1.3|     0.091|     15.5|    19.1|0.039|             7.07|\n",
      "|  1|         1|neufchatel cheese|          215|19.4|          10.9|                 4.9|                 0.8|          3.1|   2.7|    7.8|          0.0|       62.9|   0.3| 53.6|      0.2|     0.099|      0.079|       0.09|       0.1|       0.2|       0.5|     0.078|      0.0|      0.0|      0.3|    0.045|   99.5| 0.034|  0.1|      8.5|    0.088|     117.3|    129.2|   0.054|  0.7|            130.1|\n",
      "+---+----------+-----------------+-------------+----+--------------+--------------------+--------------------+-------------+------+-------+-------------+-----------+------+-----+---------+----------+-----------+-----------+----------+----------+----------+----------+---------+---------+---------+---------+-------+------+-----+---------+---------+----------+---------+--------+-----+-----------------+\n",
      "only showing top 2 rows\n",
      "\n"
     ]
    }
   ],
   "source": [
    "# Redefining the dataframe with correct column labels \n",
    "\n",
    "df = spark.read.csv(r'C:\\Users\\Wondwossen\\Desktop\\FINAL FOOD DATASET\\FOOD-DATA-GROUP1.csv', header=True, inferSchema= True)\n",
    "df.show(2)\n"
   ]
  },
  {
   "cell_type": "code",
   "execution_count": 11,
   "id": "03648df4",
   "metadata": {},
   "outputs": [
    {
     "name": "stdout",
     "output_type": "stream",
     "text": [
      "root\n",
      " |-- _c0: integer (nullable = true)\n",
      " |-- Unnamed: 0: integer (nullable = true)\n",
      " |-- food: string (nullable = true)\n",
      " |-- Caloric Value: integer (nullable = true)\n",
      " |-- Fat: double (nullable = true)\n",
      " |-- Saturated Fats: double (nullable = true)\n",
      " |-- Monounsaturated Fats: double (nullable = true)\n",
      " |-- Polyunsaturated Fats: double (nullable = true)\n",
      " |-- Carbohydrates: double (nullable = true)\n",
      " |-- Sugars: double (nullable = true)\n",
      " |-- Protein: double (nullable = true)\n",
      " |-- Dietary Fiber: double (nullable = true)\n",
      " |-- Cholesterol: double (nullable = true)\n",
      " |-- Sodium: double (nullable = true)\n",
      " |-- Water: double (nullable = true)\n",
      " |-- Vitamin A: double (nullable = true)\n",
      " |-- Vitamin B1: double (nullable = true)\n",
      " |-- Vitamin B11: double (nullable = true)\n",
      " |-- Vitamin B12: double (nullable = true)\n",
      " |-- Vitamin B2: double (nullable = true)\n",
      " |-- Vitamin B3: double (nullable = true)\n",
      " |-- Vitamin B5: double (nullable = true)\n",
      " |-- Vitamin B6: double (nullable = true)\n",
      " |-- Vitamin C: double (nullable = true)\n",
      " |-- Vitamin D: double (nullable = true)\n",
      " |-- Vitamin E: double (nullable = true)\n",
      " |-- Vitamin K: double (nullable = true)\n",
      " |-- Calcium: double (nullable = true)\n",
      " |-- Copper: double (nullable = true)\n",
      " |-- Iron: double (nullable = true)\n",
      " |-- Magnesium: double (nullable = true)\n",
      " |-- Manganese: double (nullable = true)\n",
      " |-- Phosphorus: double (nullable = true)\n",
      " |-- Potassium: double (nullable = true)\n",
      " |-- Selenium: double (nullable = true)\n",
      " |-- Zinc: double (nullable = true)\n",
      " |-- Nutrition Density: double (nullable = true)\n",
      "\n"
     ]
    }
   ],
   "source": [
    "df.printSchema()"
   ]
  },
  {
   "cell_type": "code",
   "execution_count": 12,
   "id": "d5a4d5e6",
   "metadata": {},
   "outputs": [
    {
     "name": "stdout",
     "output_type": "stream",
     "text": [
      "Number of rows: \t 551\n",
      "Number of columns: \t 37\n",
      "\n",
      "Name of columns: \n",
      " ['_c0', 'Unnamed: 0', 'food', 'Caloric Value', 'Fat', 'Saturated Fats', 'Monounsaturated Fats', 'Polyunsaturated Fats', 'Carbohydrates', 'Sugars', 'Protein', 'Dietary Fiber', 'Cholesterol', 'Sodium', 'Water', 'Vitamin A', 'Vitamin B1', 'Vitamin B11', 'Vitamin B12', 'Vitamin B2', 'Vitamin B3', 'Vitamin B5', 'Vitamin B6', 'Vitamin C', 'Vitamin D', 'Vitamin E', 'Vitamin K', 'Calcium', 'Copper', 'Iron', 'Magnesium', 'Manganese', 'Phosphorus', 'Potassium', 'Selenium', 'Zinc', 'Nutrition Density']\n"
     ]
    }
   ],
   "source": [
    "# To count the total rows in the dataframe.\n",
    "\n",
    "print('Number of rows: \\t', df.count())\n",
    "\n",
    "\n",
    "# Number of columns can be counted in this way\n",
    "\n",
    "print('Number of columns: \\t', len(df.columns))\n",
    "\n",
    "\n",
    "# To view the names of the columns\n",
    "\n",
    "print('\\nName of columns: \\n', df.columns)"
   ]
  },
  {
   "cell_type": "code",
   "execution_count": 14,
   "id": "02b210e5",
   "metadata": {},
   "outputs": [
    {
     "data": {
      "text/plain": [
       "[Row(_c0=0, Unnamed: 0=0, food='cream cheese', Caloric Value=51, Fat=5.0, Saturated Fats=2.9, Monounsaturated Fats=1.3, Polyunsaturated Fats=0.2, Carbohydrates=0.8, Sugars=0.5, Protein=0.9, Dietary Fiber=0.0, Cholesterol=14.6, Sodium=0.016, Water=7.6, Vitamin A=0.2, Vitamin B1=0.033, Vitamin B11=0.064, Vitamin B12=0.092, Vitamin B2=0.097, Vitamin B3=0.084, Vitamin B5=0.052, Vitamin B6=0.096, Vitamin C=0.004, Vitamin D=0.0, Vitamin E=0.0, Vitamin K=0.1, Calcium=0.008, Copper=14.1, Iron=0.082, Magnesium=0.027, Manganese=1.3, Phosphorus=0.091, Potassium=15.5, Selenium=19.1, Zinc=0.039, Nutrition Density=7.07),\n",
       " Row(_c0=1, Unnamed: 0=1, food='neufchatel cheese', Caloric Value=215, Fat=19.4, Saturated Fats=10.9, Monounsaturated Fats=4.9, Polyunsaturated Fats=0.8, Carbohydrates=3.1, Sugars=2.7, Protein=7.8, Dietary Fiber=0.0, Cholesterol=62.9, Sodium=0.3, Water=53.6, Vitamin A=0.2, Vitamin B1=0.099, Vitamin B11=0.079, Vitamin B12=0.09, Vitamin B2=0.1, Vitamin B3=0.2, Vitamin B5=0.5, Vitamin B6=0.078, Vitamin C=0.0, Vitamin D=0.0, Vitamin E=0.3, Vitamin K=0.045, Calcium=99.5, Copper=0.034, Iron=0.1, Magnesium=8.5, Manganese=0.088, Phosphorus=117.3, Potassium=129.2, Selenium=0.054, Zinc=0.7, Nutrition Density=130.1)]"
      ]
     },
     "execution_count": 14,
     "metadata": {},
     "output_type": "execute_result"
    }
   ],
   "source": [
    "# In pandas head() would do similar thing. It is slighly different here. \n",
    "# This method is not recommended for the large dataset. \n",
    "\n",
    "df.head(2)"
   ]
  },
  {
   "cell_type": "code",
   "execution_count": 15,
   "id": "164d0b13",
   "metadata": {},
   "outputs": [
    {
     "data": {
      "text/plain": [
       "[Row(_c0=0, Unnamed: 0=0, food='cream cheese', Caloric Value=51, Fat=5.0, Saturated Fats=2.9, Monounsaturated Fats=1.3, Polyunsaturated Fats=0.2, Carbohydrates=0.8, Sugars=0.5, Protein=0.9, Dietary Fiber=0.0, Cholesterol=14.6, Sodium=0.016, Water=7.6, Vitamin A=0.2, Vitamin B1=0.033, Vitamin B11=0.064, Vitamin B12=0.092, Vitamin B2=0.097, Vitamin B3=0.084, Vitamin B5=0.052, Vitamin B6=0.096, Vitamin C=0.004, Vitamin D=0.0, Vitamin E=0.0, Vitamin K=0.1, Calcium=0.008, Copper=14.1, Iron=0.082, Magnesium=0.027, Manganese=1.3, Phosphorus=0.091, Potassium=15.5, Selenium=19.1, Zinc=0.039, Nutrition Density=7.07),\n",
       " Row(_c0=1, Unnamed: 0=1, food='neufchatel cheese', Caloric Value=215, Fat=19.4, Saturated Fats=10.9, Monounsaturated Fats=4.9, Polyunsaturated Fats=0.8, Carbohydrates=3.1, Sugars=2.7, Protein=7.8, Dietary Fiber=0.0, Cholesterol=62.9, Sodium=0.3, Water=53.6, Vitamin A=0.2, Vitamin B1=0.099, Vitamin B11=0.079, Vitamin B12=0.09, Vitamin B2=0.1, Vitamin B3=0.2, Vitamin B5=0.5, Vitamin B6=0.078, Vitamin C=0.0, Vitamin D=0.0, Vitamin E=0.3, Vitamin K=0.045, Calcium=99.5, Copper=0.034, Iron=0.1, Magnesium=8.5, Manganese=0.088, Phosphorus=117.3, Potassium=129.2, Selenium=0.054, Zinc=0.7, Nutrition Density=130.1),\n",
       " Row(_c0=2, Unnamed: 0=2, food='requeijao cremoso light catupiry', Caloric Value=49, Fat=3.6, Saturated Fats=2.3, Monounsaturated Fats=0.9, Polyunsaturated Fats=0.0, Carbohydrates=0.9, Sugars=3.4, Protein=0.8, Dietary Fiber=0.1, Cholesterol=0.0, Sodium=0.0, Water=0.0, Vitamin A=0.0, Vitamin B1=0.0, Vitamin B11=0.0, Vitamin B12=0.0, Vitamin B2=0.0, Vitamin B3=0.0, Vitamin B5=0.0, Vitamin B6=0.0, Vitamin C=0.0, Vitamin D=0.0, Vitamin E=0.0, Vitamin K=0.0, Calcium=0.0, Copper=0.0, Iron=0.0, Magnesium=0.0, Manganese=0.0, Phosphorus=0.0, Potassium=0.0, Selenium=0.0, Zinc=0.0, Nutrition Density=5.4)]"
      ]
     },
     "execution_count": 15,
     "metadata": {},
     "output_type": "execute_result"
    }
   ],
   "source": [
    "# There is also take doing the similar thing \n",
    "\n",
    "df.take(3)"
   ]
  },
  {
   "cell_type": "code",
   "execution_count": 16,
   "id": "7f3e227f",
   "metadata": {},
   "outputs": [
    {
     "name": "stdout",
     "output_type": "stream",
     "text": [
      "+--------------------+\n",
      "|                food|\n",
      "+--------------------+\n",
      "|        cream cheese|\n",
      "|   neufchatel cheese|\n",
      "|requeijao cremoso...|\n",
      "|      ricotta cheese|\n",
      "|cream cheese low fat|\n",
      "+--------------------+\n",
      "only showing top 5 rows\n",
      "\n"
     ]
    }
   ],
   "source": [
    "# Selecting a column from the dataframe \n",
    "\n",
    "df.select('food').show(5)\n"
   ]
  },
  {
   "cell_type": "code",
   "execution_count": 18,
   "id": "ed6585c8",
   "metadata": {},
   "outputs": [
    {
     "name": "stdout",
     "output_type": "stream",
     "text": [
      "+--------------------+-------------+\n",
      "|                food|Caloric Value|\n",
      "+--------------------+-------------+\n",
      "|        cream cheese|           51|\n",
      "|   neufchatel cheese|          215|\n",
      "|requeijao cremoso...|           49|\n",
      "|      ricotta cheese|           30|\n",
      "|cream cheese low fat|           30|\n",
      "+--------------------+-------------+\n",
      "only showing top 5 rows\n",
      "\n"
     ]
    }
   ],
   "source": [
    "# Selecting two columns from the dataframe \n",
    "\n",
    "df.select('food', 'Caloric Value').show(5)"
   ]
  },
  {
   "cell_type": "code",
   "execution_count": 20,
   "id": "268a8cfb",
   "metadata": {},
   "outputs": [
    {
     "name": "stdout",
     "output_type": "stream",
     "text": [
      "+-----------------+-------------+----+--------------+--------------------+--------------------+-------------+------+-------+-------------+-----------+------+-----+---------+----------+-----------+-----------+----------+----------+----------+----------+---------+---------+---------+---------+-------+------+-----+---------+---------+----------+---------+--------+-----+-----------------+\n",
      "|             food|Caloric Value| Fat|Saturated Fats|Monounsaturated Fats|Polyunsaturated Fats|Carbohydrates|Sugars|Protein|Dietary Fiber|Cholesterol|Sodium|Water|Vitamin A|Vitamin B1|Vitamin B11|Vitamin B12|Vitamin B2|Vitamin B3|Vitamin B5|Vitamin B6|Vitamin C|Vitamin D|Vitamin E|Vitamin K|Calcium|Copper| Iron|Magnesium|Manganese|Phosphorus|Potassium|Selenium| Zinc|Nutrition Density|\n",
      "+-----------------+-------------+----+--------------+--------------------+--------------------+-------------+------+-------+-------------+-----------+------+-----+---------+----------+-----------+-----------+----------+----------+----------+----------+---------+---------+---------+---------+-------+------+-----+---------+---------+----------+---------+--------+-----+-----------------+\n",
      "|     cream cheese|           51| 5.0|           2.9|                 1.3|                 0.2|          0.8|   0.5|    0.9|          0.0|       14.6| 0.016|  7.6|      0.2|     0.033|      0.064|      0.092|     0.097|     0.084|     0.052|     0.096|    0.004|      0.0|      0.0|      0.1|  0.008|  14.1|0.082|    0.027|      1.3|     0.091|     15.5|    19.1|0.039|             7.07|\n",
      "|neufchatel cheese|          215|19.4|          10.9|                 4.9|                 0.8|          3.1|   2.7|    7.8|          0.0|       62.9|   0.3| 53.6|      0.2|     0.099|      0.079|       0.09|       0.1|       0.2|       0.5|     0.078|      0.0|      0.0|      0.3|    0.045|   99.5| 0.034|  0.1|      8.5|    0.088|     117.3|    129.2|   0.054|  0.7|            130.1|\n",
      "+-----------------+-------------+----+--------------+--------------------+--------------------+-------------+------+-------+-------------+-----------+------+-----+---------+----------+-----------+-----------+----------+----------+----------+----------+---------+---------+---------+---------+-------+------+-----+---------+---------+----------+---------+--------+-----+-----------------+\n",
      "only showing top 2 rows\n",
      "\n"
     ]
    }
   ],
   "source": [
    "# Droping unwanted row from datafrmae\n",
    "\n",
    "df.drop('_c0', 'Unnamed: 0').show(2)\n"
   ]
  },
  {
   "cell_type": "code",
   "execution_count": 21,
   "id": "939f7275",
   "metadata": {},
   "outputs": [
    {
     "data": {
      "text/html": [
       "<div>\n",
       "<style scoped>\n",
       "    .dataframe tbody tr th:only-of-type {\n",
       "        vertical-align: middle;\n",
       "    }\n",
       "\n",
       "    .dataframe tbody tr th {\n",
       "        vertical-align: top;\n",
       "    }\n",
       "\n",
       "    .dataframe thead th {\n",
       "        text-align: right;\n",
       "    }\n",
       "</style>\n",
       "<table border=\"1\" class=\"dataframe\">\n",
       "  <thead>\n",
       "    <tr style=\"text-align: right;\">\n",
       "      <th></th>\n",
       "      <th>_c0</th>\n",
       "      <th>Unnamed: 0</th>\n",
       "      <th>food</th>\n",
       "      <th>Caloric Value</th>\n",
       "      <th>Fat</th>\n",
       "      <th>Saturated Fats</th>\n",
       "      <th>Monounsaturated Fats</th>\n",
       "      <th>Polyunsaturated Fats</th>\n",
       "      <th>Carbohydrates</th>\n",
       "      <th>Sugars</th>\n",
       "      <th>...</th>\n",
       "      <th>Calcium</th>\n",
       "      <th>Copper</th>\n",
       "      <th>Iron</th>\n",
       "      <th>Magnesium</th>\n",
       "      <th>Manganese</th>\n",
       "      <th>Phosphorus</th>\n",
       "      <th>Potassium</th>\n",
       "      <th>Selenium</th>\n",
       "      <th>Zinc</th>\n",
       "      <th>Nutrition Density</th>\n",
       "    </tr>\n",
       "  </thead>\n",
       "  <tbody>\n",
       "    <tr>\n",
       "      <th>0</th>\n",
       "      <td>0</td>\n",
       "      <td>0</td>\n",
       "      <td>cream cheese</td>\n",
       "      <td>51</td>\n",
       "      <td>5.0</td>\n",
       "      <td>2.9</td>\n",
       "      <td>1.3</td>\n",
       "      <td>0.200</td>\n",
       "      <td>0.8</td>\n",
       "      <td>0.500</td>\n",
       "      <td>...</td>\n",
       "      <td>0.008</td>\n",
       "      <td>14.100</td>\n",
       "      <td>0.082</td>\n",
       "      <td>0.027</td>\n",
       "      <td>1.300</td>\n",
       "      <td>0.091</td>\n",
       "      <td>15.5</td>\n",
       "      <td>19.100</td>\n",
       "      <td>0.039</td>\n",
       "      <td>7.070</td>\n",
       "    </tr>\n",
       "    <tr>\n",
       "      <th>1</th>\n",
       "      <td>1</td>\n",
       "      <td>1</td>\n",
       "      <td>neufchatel cheese</td>\n",
       "      <td>215</td>\n",
       "      <td>19.4</td>\n",
       "      <td>10.9</td>\n",
       "      <td>4.9</td>\n",
       "      <td>0.800</td>\n",
       "      <td>3.1</td>\n",
       "      <td>2.700</td>\n",
       "      <td>...</td>\n",
       "      <td>99.500</td>\n",
       "      <td>0.034</td>\n",
       "      <td>0.100</td>\n",
       "      <td>8.500</td>\n",
       "      <td>0.088</td>\n",
       "      <td>117.300</td>\n",
       "      <td>129.2</td>\n",
       "      <td>0.054</td>\n",
       "      <td>0.700</td>\n",
       "      <td>130.100</td>\n",
       "    </tr>\n",
       "    <tr>\n",
       "      <th>2</th>\n",
       "      <td>2</td>\n",
       "      <td>2</td>\n",
       "      <td>requeijao cremoso light catupiry</td>\n",
       "      <td>49</td>\n",
       "      <td>3.6</td>\n",
       "      <td>2.3</td>\n",
       "      <td>0.9</td>\n",
       "      <td>0.000</td>\n",
       "      <td>0.9</td>\n",
       "      <td>3.400</td>\n",
       "      <td>...</td>\n",
       "      <td>0.000</td>\n",
       "      <td>0.000</td>\n",
       "      <td>0.000</td>\n",
       "      <td>0.000</td>\n",
       "      <td>0.000</td>\n",
       "      <td>0.000</td>\n",
       "      <td>0.0</td>\n",
       "      <td>0.000</td>\n",
       "      <td>0.000</td>\n",
       "      <td>5.400</td>\n",
       "    </tr>\n",
       "    <tr>\n",
       "      <th>3</th>\n",
       "      <td>3</td>\n",
       "      <td>3</td>\n",
       "      <td>ricotta cheese</td>\n",
       "      <td>30</td>\n",
       "      <td>2.0</td>\n",
       "      <td>1.3</td>\n",
       "      <td>0.5</td>\n",
       "      <td>0.002</td>\n",
       "      <td>1.5</td>\n",
       "      <td>0.091</td>\n",
       "      <td>...</td>\n",
       "      <td>0.097</td>\n",
       "      <td>41.200</td>\n",
       "      <td>0.097</td>\n",
       "      <td>0.096</td>\n",
       "      <td>4.000</td>\n",
       "      <td>0.024</td>\n",
       "      <td>30.8</td>\n",
       "      <td>43.800</td>\n",
       "      <td>0.035</td>\n",
       "      <td>5.196</td>\n",
       "    </tr>\n",
       "    <tr>\n",
       "      <th>4</th>\n",
       "      <td>4</td>\n",
       "      <td>4</td>\n",
       "      <td>cream cheese low fat</td>\n",
       "      <td>30</td>\n",
       "      <td>2.3</td>\n",
       "      <td>1.4</td>\n",
       "      <td>0.6</td>\n",
       "      <td>0.042</td>\n",
       "      <td>1.2</td>\n",
       "      <td>0.900</td>\n",
       "      <td>...</td>\n",
       "      <td>22.200</td>\n",
       "      <td>0.072</td>\n",
       "      <td>0.008</td>\n",
       "      <td>1.200</td>\n",
       "      <td>0.098</td>\n",
       "      <td>22.800</td>\n",
       "      <td>37.1</td>\n",
       "      <td>0.034</td>\n",
       "      <td>0.053</td>\n",
       "      <td>27.007</td>\n",
       "    </tr>\n",
       "  </tbody>\n",
       "</table>\n",
       "<p>5 rows × 37 columns</p>\n",
       "</div>"
      ],
      "text/plain": [
       "   _c0  Unnamed: 0                              food  Caloric Value   Fat  \\\n",
       "0    0           0                      cream cheese             51   5.0   \n",
       "1    1           1                 neufchatel cheese            215  19.4   \n",
       "2    2           2  requeijao cremoso light catupiry             49   3.6   \n",
       "3    3           3                    ricotta cheese             30   2.0   \n",
       "4    4           4              cream cheese low fat             30   2.3   \n",
       "\n",
       "   Saturated Fats  Monounsaturated Fats  Polyunsaturated Fats  Carbohydrates  \\\n",
       "0             2.9                   1.3                 0.200            0.8   \n",
       "1            10.9                   4.9                 0.800            3.1   \n",
       "2             2.3                   0.9                 0.000            0.9   \n",
       "3             1.3                   0.5                 0.002            1.5   \n",
       "4             1.4                   0.6                 0.042            1.2   \n",
       "\n",
       "   Sugars  ...  Calcium  Copper   Iron  Magnesium  Manganese  Phosphorus  \\\n",
       "0   0.500  ...    0.008  14.100  0.082      0.027      1.300       0.091   \n",
       "1   2.700  ...   99.500   0.034  0.100      8.500      0.088     117.300   \n",
       "2   3.400  ...    0.000   0.000  0.000      0.000      0.000       0.000   \n",
       "3   0.091  ...    0.097  41.200  0.097      0.096      4.000       0.024   \n",
       "4   0.900  ...   22.200   0.072  0.008      1.200      0.098      22.800   \n",
       "\n",
       "   Potassium  Selenium   Zinc  Nutrition Density  \n",
       "0       15.5    19.100  0.039              7.070  \n",
       "1      129.2     0.054  0.700            130.100  \n",
       "2        0.0     0.000  0.000              5.400  \n",
       "3       30.8    43.800  0.035              5.196  \n",
       "4       37.1     0.034  0.053             27.007  \n",
       "\n",
       "[5 rows x 37 columns]"
      ]
     },
     "execution_count": 21,
     "metadata": {},
     "output_type": "execute_result"
    }
   ],
   "source": [
    "# Convert spark dataframe to Pandas dataframe\n",
    "\n",
    "df.toPandas().head()\n"
   ]
  },
  {
   "cell_type": "code",
   "execution_count": 22,
   "id": "02a64897",
   "metadata": {},
   "outputs": [
    {
     "data": {
      "text/html": [
       "<div>\n",
       "<style scoped>\n",
       "    .dataframe tbody tr th:only-of-type {\n",
       "        vertical-align: middle;\n",
       "    }\n",
       "\n",
       "    .dataframe tbody tr th {\n",
       "        vertical-align: top;\n",
       "    }\n",
       "\n",
       "    .dataframe thead th {\n",
       "        text-align: right;\n",
       "    }\n",
       "</style>\n",
       "<table border=\"1\" class=\"dataframe\">\n",
       "  <thead>\n",
       "    <tr style=\"text-align: right;\">\n",
       "      <th></th>\n",
       "      <th>_c0</th>\n",
       "      <th>Unnamed: 0</th>\n",
       "      <th>food</th>\n",
       "      <th>Caloric Value</th>\n",
       "      <th>Fat</th>\n",
       "      <th>Saturated Fats</th>\n",
       "      <th>Monounsaturated Fats</th>\n",
       "      <th>Polyunsaturated Fats</th>\n",
       "      <th>Carbohydrates</th>\n",
       "      <th>Sugars</th>\n",
       "      <th>...</th>\n",
       "      <th>Calcium</th>\n",
       "      <th>Copper</th>\n",
       "      <th>Iron</th>\n",
       "      <th>Magnesium</th>\n",
       "      <th>Manganese</th>\n",
       "      <th>Phosphorus</th>\n",
       "      <th>Potassium</th>\n",
       "      <th>Selenium</th>\n",
       "      <th>Zinc</th>\n",
       "      <th>Nutrition Density</th>\n",
       "    </tr>\n",
       "  </thead>\n",
       "  <tbody>\n",
       "    <tr>\n",
       "      <th>0</th>\n",
       "      <td>0</td>\n",
       "      <td>0</td>\n",
       "      <td>cream cheese</td>\n",
       "      <td>51</td>\n",
       "      <td>5.0</td>\n",
       "      <td>2.9</td>\n",
       "      <td>1.3</td>\n",
       "      <td>0.200</td>\n",
       "      <td>0.8</td>\n",
       "      <td>0.500</td>\n",
       "      <td>...</td>\n",
       "      <td>0.008</td>\n",
       "      <td>14.100</td>\n",
       "      <td>0.082</td>\n",
       "      <td>0.027</td>\n",
       "      <td>1.300</td>\n",
       "      <td>0.091</td>\n",
       "      <td>15.5</td>\n",
       "      <td>19.100</td>\n",
       "      <td>0.039</td>\n",
       "      <td>7.070</td>\n",
       "    </tr>\n",
       "    <tr>\n",
       "      <th>1</th>\n",
       "      <td>1</td>\n",
       "      <td>1</td>\n",
       "      <td>neufchatel cheese</td>\n",
       "      <td>215</td>\n",
       "      <td>19.4</td>\n",
       "      <td>10.9</td>\n",
       "      <td>4.9</td>\n",
       "      <td>0.800</td>\n",
       "      <td>3.1</td>\n",
       "      <td>2.700</td>\n",
       "      <td>...</td>\n",
       "      <td>99.500</td>\n",
       "      <td>0.034</td>\n",
       "      <td>0.100</td>\n",
       "      <td>8.500</td>\n",
       "      <td>0.088</td>\n",
       "      <td>117.300</td>\n",
       "      <td>129.2</td>\n",
       "      <td>0.054</td>\n",
       "      <td>0.700</td>\n",
       "      <td>130.100</td>\n",
       "    </tr>\n",
       "    <tr>\n",
       "      <th>2</th>\n",
       "      <td>2</td>\n",
       "      <td>2</td>\n",
       "      <td>requeijao cremoso light catupiry</td>\n",
       "      <td>49</td>\n",
       "      <td>3.6</td>\n",
       "      <td>2.3</td>\n",
       "      <td>0.9</td>\n",
       "      <td>0.000</td>\n",
       "      <td>0.9</td>\n",
       "      <td>3.400</td>\n",
       "      <td>...</td>\n",
       "      <td>0.000</td>\n",
       "      <td>0.000</td>\n",
       "      <td>0.000</td>\n",
       "      <td>0.000</td>\n",
       "      <td>0.000</td>\n",
       "      <td>0.000</td>\n",
       "      <td>0.0</td>\n",
       "      <td>0.000</td>\n",
       "      <td>0.000</td>\n",
       "      <td>5.400</td>\n",
       "    </tr>\n",
       "    <tr>\n",
       "      <th>3</th>\n",
       "      <td>3</td>\n",
       "      <td>3</td>\n",
       "      <td>ricotta cheese</td>\n",
       "      <td>30</td>\n",
       "      <td>2.0</td>\n",
       "      <td>1.3</td>\n",
       "      <td>0.5</td>\n",
       "      <td>0.002</td>\n",
       "      <td>1.5</td>\n",
       "      <td>0.091</td>\n",
       "      <td>...</td>\n",
       "      <td>0.097</td>\n",
       "      <td>41.200</td>\n",
       "      <td>0.097</td>\n",
       "      <td>0.096</td>\n",
       "      <td>4.000</td>\n",
       "      <td>0.024</td>\n",
       "      <td>30.8</td>\n",
       "      <td>43.800</td>\n",
       "      <td>0.035</td>\n",
       "      <td>5.196</td>\n",
       "    </tr>\n",
       "    <tr>\n",
       "      <th>4</th>\n",
       "      <td>4</td>\n",
       "      <td>4</td>\n",
       "      <td>cream cheese low fat</td>\n",
       "      <td>30</td>\n",
       "      <td>2.3</td>\n",
       "      <td>1.4</td>\n",
       "      <td>0.6</td>\n",
       "      <td>0.042</td>\n",
       "      <td>1.2</td>\n",
       "      <td>0.900</td>\n",
       "      <td>...</td>\n",
       "      <td>22.200</td>\n",
       "      <td>0.072</td>\n",
       "      <td>0.008</td>\n",
       "      <td>1.200</td>\n",
       "      <td>0.098</td>\n",
       "      <td>22.800</td>\n",
       "      <td>37.1</td>\n",
       "      <td>0.034</td>\n",
       "      <td>0.053</td>\n",
       "      <td>27.007</td>\n",
       "    </tr>\n",
       "  </tbody>\n",
       "</table>\n",
       "<p>5 rows × 37 columns</p>\n",
       "</div>"
      ],
      "text/plain": [
       "   _c0  Unnamed: 0                              food  Caloric Value   Fat  \\\n",
       "0    0           0                      cream cheese             51   5.0   \n",
       "1    1           1                 neufchatel cheese            215  19.4   \n",
       "2    2           2  requeijao cremoso light catupiry             49   3.6   \n",
       "3    3           3                    ricotta cheese             30   2.0   \n",
       "4    4           4              cream cheese low fat             30   2.3   \n",
       "\n",
       "   Saturated Fats  Monounsaturated Fats  Polyunsaturated Fats  Carbohydrates  \\\n",
       "0             2.9                   1.3                 0.200            0.8   \n",
       "1            10.9                   4.9                 0.800            3.1   \n",
       "2             2.3                   0.9                 0.000            0.9   \n",
       "3             1.3                   0.5                 0.002            1.5   \n",
       "4             1.4                   0.6                 0.042            1.2   \n",
       "\n",
       "   Sugars  ...  Calcium  Copper   Iron  Magnesium  Manganese  Phosphorus  \\\n",
       "0   0.500  ...    0.008  14.100  0.082      0.027      1.300       0.091   \n",
       "1   2.700  ...   99.500   0.034  0.100      8.500      0.088     117.300   \n",
       "2   3.400  ...    0.000   0.000  0.000      0.000      0.000       0.000   \n",
       "3   0.091  ...    0.097  41.200  0.097      0.096      4.000       0.024   \n",
       "4   0.900  ...   22.200   0.072  0.008      1.200      0.098      22.800   \n",
       "\n",
       "   Potassium  Selenium   Zinc  Nutrition Density  \n",
       "0       15.5    19.100  0.039              7.070  \n",
       "1      129.2     0.054  0.700            130.100  \n",
       "2        0.0     0.000  0.000              5.400  \n",
       "3       30.8    43.800  0.035              5.196  \n",
       "4       37.1     0.034  0.053             27.007  \n",
       "\n",
       "[5 rows x 37 columns]"
      ]
     },
     "execution_count": 22,
     "metadata": {},
     "output_type": "execute_result"
    }
   ],
   "source": [
    "# Conversion of the whole dataframe in pandas can be costly. \n",
    "# If the interest is to only look at the head we can do the following. \n",
    "\n",
    "df.limit(5).toPandas()\n"
   ]
  },
  {
   "cell_type": "code",
   "execution_count": 23,
   "id": "ba973b2a",
   "metadata": {},
   "outputs": [
    {
     "name": "stdout",
     "output_type": "stream",
     "text": [
      "-RECORD 0---------------------------------\n",
      " _c0                  | 0                 \n",
      " Unnamed: 0           | 0                 \n",
      " food                 | cream cheese      \n",
      " Caloric Value        | 51                \n",
      " Fat                  | 5.0               \n",
      " Saturated Fats       | 2.9               \n",
      " Monounsaturated Fats | 1.3               \n",
      " Polyunsaturated Fats | 0.2               \n",
      " Carbohydrates        | 0.8               \n",
      " Sugars               | 0.5               \n",
      " Protein              | 0.9               \n",
      " Dietary Fiber        | 0.0               \n",
      " Cholesterol          | 14.6              \n",
      " Sodium               | 0.016             \n",
      " Water                | 7.6               \n",
      " Vitamin A            | 0.2               \n",
      " Vitamin B1           | 0.033             \n",
      " Vitamin B11          | 0.064             \n",
      " Vitamin B12          | 0.092             \n",
      " Vitamin B2           | 0.097             \n",
      " Vitamin B3           | 0.084             \n",
      " Vitamin B5           | 0.052             \n",
      " Vitamin B6           | 0.096             \n",
      " Vitamin C            | 0.004             \n",
      " Vitamin D            | 0.0               \n",
      " Vitamin E            | 0.0               \n",
      " Vitamin K            | 0.1               \n",
      " Calcium              | 0.008             \n",
      " Copper               | 14.1              \n",
      " Iron                 | 0.082             \n",
      " Magnesium            | 0.027             \n",
      " Manganese            | 1.3               \n",
      " Phosphorus           | 0.091             \n",
      " Potassium            | 15.5              \n",
      " Selenium             | 19.1              \n",
      " Zinc                 | 0.039             \n",
      " Nutrition Density    | 7.07              \n",
      "-RECORD 1---------------------------------\n",
      " _c0                  | 1                 \n",
      " Unnamed: 0           | 1                 \n",
      " food                 | neufchatel cheese \n",
      " Caloric Value        | 215               \n",
      " Fat                  | 19.4              \n",
      " Saturated Fats       | 10.9              \n",
      " Monounsaturated Fats | 4.9               \n",
      " Polyunsaturated Fats | 0.8               \n",
      " Carbohydrates        | 3.1               \n",
      " Sugars               | 2.7               \n",
      " Protein              | 7.8               \n",
      " Dietary Fiber        | 0.0               \n",
      " Cholesterol          | 62.9              \n",
      " Sodium               | 0.3               \n",
      " Water                | 53.6              \n",
      " Vitamin A            | 0.2               \n",
      " Vitamin B1           | 0.099             \n",
      " Vitamin B11          | 0.079             \n",
      " Vitamin B12          | 0.09              \n",
      " Vitamin B2           | 0.1               \n",
      " Vitamin B3           | 0.2               \n",
      " Vitamin B5           | 0.5               \n",
      " Vitamin B6           | 0.078             \n",
      " Vitamin C            | 0.0               \n",
      " Vitamin D            | 0.0               \n",
      " Vitamin E            | 0.3               \n",
      " Vitamin K            | 0.045             \n",
      " Calcium              | 99.5              \n",
      " Copper               | 0.034             \n",
      " Iron                 | 0.1               \n",
      " Magnesium            | 8.5               \n",
      " Manganese            | 0.088             \n",
      " Phosphorus           | 117.3             \n",
      " Potassium            | 129.2             \n",
      " Selenium             | 0.054             \n",
      " Zinc                 | 0.7               \n",
      " Nutrition Density    | 130.1             \n",
      "only showing top 2 rows\n",
      "\n"
     ]
    }
   ],
   "source": [
    "# It is possibel to view dataframe vertically as well\n",
    "\n",
    "df.show(n=2, vertical=True)\n"
   ]
  },
  {
   "cell_type": "code",
   "execution_count": 25,
   "id": "c28524d4",
   "metadata": {},
   "outputs": [
    {
     "name": "stdout",
     "output_type": "stream",
     "text": [
      "+---+----------+--------------------+-------------+----+--------------+--------------------+--------------------+-------------+------+-------+-------------+-----------+------+-----+---------+----------+-----------+-----------+----------+----------+----------+----------+---------+---------+---------+---------+-------+------+----+---------+---------+----------+---------+--------+----+-----------------+\n",
      "|_c0|Unnamed: 0|                food|Caloric Value| Fat|Saturated Fats|Monounsaturated Fats|Polyunsaturated Fats|Carbohydrates|Sugars|Protein|Dietary Fiber|Cholesterol|Sodium|Water|Vitamin A|Vitamin B1|Vitamin B11|Vitamin B12|Vitamin B2|Vitamin B3|Vitamin B5|Vitamin B6|Vitamin C|Vitamin D|Vitamin E|Vitamin K|Calcium|Copper|Iron|Magnesium|Manganese|Phosphorus|Potassium|Selenium|Zinc|Nutrition Density|\n",
      "+---+----------+--------------------+-------------+----+--------------+--------------------+--------------------+-------------+------+-------+-------------+-----------+------+-----+---------+----------+-----------+-----------+----------+----------+----------+----------+---------+---------+---------+---------+-------+------+----+---------+---------+----------+---------+--------+----+-----------------+\n",
      "| 35|        35|      mexican cheese|          316|21.7|          13.0|                 5.6|                 0.8|          3.8|   0.6|   27.7|          0.0|       69.4|   0.9| 54.0|      0.2|     0.091|      0.027|       0.05|       0.3|     0.017|       0.0|      0.04|      0.0|    0.087|      0.2|    0.073| 1283.5| 0.034| 0.1|     39.2|      0.0|     653.0|    104.2|   0.006| 4.8|           1337.0|\n",
      "| 37|        37|mozzarella cheese...|          159| 0.0|           0.0|                 0.0|                 0.0|          4.0|   1.7|   35.8|          2.0|       20.3|   0.8| 68.0|      0.1|     0.079|      0.011|      0.025|       0.3|       0.1|       0.0|     0.055|      0.0|      0.0|      0.2|    0.018| 1085.9| 0.077| 0.4|     37.3|      0.0|     741.3|    119.8|   0.035| 4.4|           1128.2|\n",
      "+---+----------+--------------------+-------------+----+--------------+--------------------+--------------------+-------------+------+-------+-------------+-----------+------+-----+---------+----------+-----------+-----------+----------+----------+----------+----------+---------+---------+---------+---------+-------+------+----+---------+---------+----------+---------+--------+----+-----------------+\n",
      "only showing top 2 rows\n",
      "\n"
     ]
    }
   ],
   "source": [
    "# By default the data is orderd by country. \n",
    "# Here is a method to order by different column. \n",
    "\n",
    "df.orderBy('Nutrition Density', ascending=False).show(2)"
   ]
  },
  {
   "cell_type": "code",
   "execution_count": 26,
   "id": "0d28e89b",
   "metadata": {},
   "outputs": [
    {
     "name": "stdout",
     "output_type": "stream",
     "text": [
      "+-------+------------------+-----------------+-------------------+-------------------+-------------------+\n",
      "|summary|            Sugars|            Water|          Vitamin A|         Vitamin B1|        Vitamin B11|\n",
      "+-------+------------------+-----------------+-------------------+-------------------+-------------------+\n",
      "|  count|               551|              551|                551|                551|                551|\n",
      "|   mean|2.7089074410163367|101.6586987295825|0.07996914700544476|0.15500181488203263|0.06567332123411986|\n",
      "| stddev| 7.455666228907502|88.50171005801361| 0.1675361045240377| 0.2100000909012146|0.09187969602417505|\n",
      "|    min|               0.0|              0.0|                0.0|                0.0|                0.0|\n",
      "|    max|              70.8|            535.8|                2.1|                1.9|                1.3|\n",
      "+-------+------------------+-----------------+-------------------+-------------------+-------------------+\n",
      "\n"
     ]
    }
   ],
   "source": [
    "# Descriptive statistics of 'Sugars', 'Water', 'Vitamin A', 'Vitamin B1', 'Vitamin B11'\n",
    "\n",
    "df.describe('Sugars', 'Water', 'Vitamin A', 'Vitamin B1', 'Vitamin B11').show()"
   ]
  },
  {
   "cell_type": "code",
   "execution_count": 27,
   "id": "08eead1f",
   "metadata": {},
   "outputs": [
    {
     "name": "stdout",
     "output_type": "stream",
     "text": [
      "+----------------------+\n",
      "|avg(Nutrition Density)|\n",
      "+----------------------+\n",
      "|    144.66320689655174|\n",
      "+----------------------+\n",
      "\n"
     ]
    }
   ],
   "source": [
    "# If we want two statistical measure simultaneously we can not \n",
    "# do it in this way. We will see how to do that sortly. \n",
    "\n",
    "df.agg({'Nutrition Density':'mean'}).show()\n"
   ]
  },
  {
   "cell_type": "code",
   "execution_count": 31,
   "id": "46d9862b",
   "metadata": {},
   "outputs": [
    {
     "name": "stdout",
     "output_type": "stream",
     "text": [
      "+-------+------------------+------------------+------------------+------------------+------------------+-----------------+\n",
      "|summary| Nutrition Density|     Caloric Value|               Fat|           Protein|     Carbohydrates|    Dietary Fiber|\n",
      "+-------+------------------+------------------+------------------+------------------+------------------+-----------------+\n",
      "|  count|               551|               551|               551|               551|               551|              551|\n",
      "|   mean|144.66320689655174|237.35934664246824|10.766932849364785|18.417856624319416|15.819036297640665|1.098145190562614|\n",
      "| stddev| 187.0476228328469|199.23559762874058| 12.54419645258066|18.932403570678556| 20.28931962151848|2.156680591845952|\n",
      "|    min|             1.025|                 3|               0.0|               0.0|               0.0|              0.0|\n",
      "|    25%|              39.8|                94|               2.5|               5.3|               0.0|              0.0|\n",
      "|    50%|              84.1|               186|               6.6|              11.9|               5.1|              0.0|\n",
      "|    75%|           171.757|               338|              14.4|              25.8|              28.7|              1.5|\n",
      "|    max|            1337.0|              1578|              87.5|              86.9|             128.3|             17.5|\n",
      "+-------+------------------+------------------+------------------+------------------+------------------+-----------------+\n",
      "\n"
     ]
    }
   ],
   "source": [
    "# summary() is similar to the describe() but it is more versatile \n",
    "# and it has more functionality as we see below. \n",
    "\n",
    "df.select('Nutrition Density', 'Caloric Value', 'Fat', 'Protein', 'Carbohydrates', 'Dietary Fiber').summary().show()  "
   ]
  },
  {
   "cell_type": "code",
   "execution_count": 32,
   "id": "cbc14a7e",
   "metadata": {},
   "outputs": [
    {
     "data": {
      "text/plain": [
       "[38.5, 82.88, 167.2]"
      ]
     },
     "execution_count": 32,
     "metadata": {},
     "output_type": "execute_result"
    }
   ],
   "source": [
    "# This is to calculate the percentiles from the dataframe\n",
    "# First entry is the column name from which these calculations are made. \n",
    "# Second is the list of percentiles we calculate. 0.5 means 50th and so on. \n",
    "# Last entry means accuracy. 0.01 means accurate upto two places in decimal. \n",
    "\n",
    "df.approxQuantile('Nutrition Density', [0.25, 0.5, 0.75], 0.01)\n"
   ]
  },
  {
   "cell_type": "code",
   "execution_count": 33,
   "id": "40ab45cd",
   "metadata": {},
   "outputs": [
    {
     "name": "stdout",
     "output_type": "stream",
     "text": [
      "+---------------------------+\n",
      "|Nutrition Density_freqItems|\n",
      "+---------------------------+\n",
      "|       [23.044, 58.197, ...|\n",
      "+---------------------------+\n",
      "\n"
     ]
    }
   ],
   "source": [
    "# This calculates the frequency and its repeatition \n",
    "\n",
    "df.freqItems(['Nutrition Density'], 0.01).show()"
   ]
  },
  {
   "cell_type": "code",
   "execution_count": 35,
   "id": "503f58cd",
   "metadata": {},
   "outputs": [
    {
     "data": {
      "text/plain": [
       "0.9090236029444221"
      ]
     },
     "execution_count": 35,
     "metadata": {},
     "output_type": "execute_result"
    }
   ],
   "source": [
    "# This claculates the correlation between two columns\n",
    "\n",
    "df.corr('Caloric Value', 'Fat')"
   ]
  },
  {
   "cell_type": "code",
   "execution_count": 37,
   "id": "5d329fb1",
   "metadata": {},
   "outputs": [
    {
     "name": "stdout",
     "output_type": "stream",
     "text": [
      "+---+----------+------------+-------------+---+--------------+--------------------+--------------------+-------------+------+-------+-------------+-----------+------+-----+---------+----------+-----------+-----------+----------+----------+----------+----------+---------+---------+---------+---------+-------+------+----+---------+---------+----------+---------+--------+-----+-----------------+\n",
      "|_c0|Unnamed: 0|        food|Caloric Value|Fat|Saturated Fats|Monounsaturated Fats|Polyunsaturated Fats|Carbohydrates|Sugars|Protein|Dietary Fiber|Cholesterol|Sodium|Water|Vitamin A|Vitamin B1|Vitamin B11|Vitamin B12|Vitamin B2|Vitamin B3|Vitamin B5|Vitamin B6|Vitamin C|Vitamin D|Vitamin E|Vitamin K|Calcium|Copper|Iron|Magnesium|Manganese|Phosphorus|Potassium|Selenium| Zinc|Nutrition Density|\n",
      "+---+----------+------------+-------------+---+--------------+--------------------+--------------------+-------------+------+-------+-------------+-----------+------+-----+---------+----------+-----------+-----------+----------+----------+----------+----------+---------+---------+---------+---------+-------+------+----+---------+---------+----------+---------+--------+-----+-----------------+\n",
      "|526|       526|shrimp fried|           52|3.2|           0.7|                 2.0|                 0.3|          4.8| 0.086|    1.3|          0.1|        9.9|   0.2|  7.2|     0.01|     0.037|      0.029|      0.075|     0.065|       0.2|       0.0|     0.021|      0.0|      0.0|      0.4|     0.04|    4.9| 0.012| 0.1|      2.7|    0.015|      31.5|     13.9|   0.021|0.069|           14.433|\n",
      "+---+----------+------------+-------------+---+--------------+--------------------+--------------------+-------------+------+-------+-------------+-----------+------+-----+---------+----------+-----------+-----------+----------+----------+----------+----------+---------+---------+---------+---------+-------+------+----+---------+---------+----------+---------+--------+-----+-----------------+\n",
      "\n"
     ]
    }
   ],
   "source": [
    "# To take random sample from the dataframe. \n",
    "# The first boolean is for weather or not to make replacement in smapling.\n",
    "# Second flooat is to indicate what fraction of populations to take in sample. \n",
    "\n",
    "df_sample = df.sample(False, 0.01)\n",
    "df_sample.show(2)"
   ]
  },
  {
   "cell_type": "code",
   "execution_count": 38,
   "id": "d2b97347",
   "metadata": {},
   "outputs": [
    {
     "name": "stdout",
     "output_type": "stream",
     "text": [
      "+--------------------+\n",
      "|                food|\n",
      "+--------------------+\n",
      "|   refried red beans|\n",
      "|     mackerel cooked|\n",
      "|pepper jack chees...|\n",
      "|       fruit burrito|\n",
      "|            pout raw|\n",
      "|chicken box mcdon...|\n",
      "|atlantic croaker ...|\n",
      "|   pupusas del cerdo|\n",
      "|split pea soup wi...|\n",
      "|      chips chipotle|\n",
      "+--------------------+\n",
      "only showing top 10 rows\n",
      "\n"
     ]
    }
   ],
   "source": [
    "# distinct() removes the repeatition in the selection \n",
    "\n",
    "countries = df.select('food').distinct()\n",
    "countries.show(10)\n"
   ]
  },
  {
   "cell_type": "code",
   "execution_count": 39,
   "id": "0bc21f86",
   "metadata": {},
   "outputs": [
    {
     "name": "stdout",
     "output_type": "stream",
     "text": [
      "+--------------------+\n",
      "|                food|\n",
      "+--------------------+\n",
      "|             abalone|\n",
      "|alaska king crab ...|\n",
      "|alaska king crab raw|\n",
      "|american cheese s...|\n",
      "|american shad cooked|\n",
      "|   american shad raw|\n",
      "|anchovy canned in...|\n",
      "|         anchovy raw|\n",
      "|        anejo cheese|\n",
      "|        apple butter|\n",
      "+--------------------+\n",
      "only showing top 10 rows\n",
      "\n"
     ]
    }
   ],
   "source": [
    "# We can sort the dataframe by selected column name \n",
    "\n",
    "countries.sort('food').show(10)"
   ]
  },
  {
   "cell_type": "code",
   "execution_count": 41,
   "id": "d2ccd9a5",
   "metadata": {},
   "outputs": [
    {
     "data": {
      "text/plain": [
       "551"
      ]
     },
     "execution_count": 41,
     "metadata": {},
     "output_type": "execute_result"
    }
   ],
   "source": [
    "# Now we can count the total number of countries \n",
    "\n",
    "df.select('food').count()"
   ]
  },
  {
   "cell_type": "code",
   "execution_count": 42,
   "id": "25366eec",
   "metadata": {},
   "outputs": [
    {
     "name": "stdout",
     "output_type": "stream",
     "text": [
      "+------------+-----------------+-----+\n",
      "|        food|Nutrition Density|count|\n",
      "+------------+-----------------+-----+\n",
      "|      tahini|             78.6|    1|\n",
      "|swiss cheese|          237.396|    1|\n",
      "|  taco salad|            189.0|    1|\n",
      "|     lasagna|           36.675|    1|\n",
      "+------------+-----------------+-----+\n",
      "only showing top 4 rows\n",
      "\n"
     ]
    }
   ],
   "source": [
    "# We can group the dataframe by entries of the selected columns \n",
    "# Usually we want to perfrom some descriptive measurement after \n",
    "# grouping them together. \n",
    "\n",
    "df.groupBy('food', 'Nutrition Density').count().show(4)\n"
   ]
  },
  {
   "cell_type": "code",
   "execution_count": 43,
   "id": "be7fe543",
   "metadata": {},
   "outputs": [
    {
     "name": "stdout",
     "output_type": "stream",
     "text": [
      "+--------------------+----------------------+------------------+\n",
      "|                food|avg(Nutrition Density)|avg(Caloric value)|\n",
      "+--------------------+----------------------+------------------+\n",
      "|   refried red beans|                 156.2|             336.0|\n",
      "|     mackerel cooked|                51.733|             231.0|\n",
      "|pepper jack chees...|                  13.5|              75.0|\n",
      "|       fruit burrito|                  64.3|             231.0|\n",
      "|            pout raw|                98.078|             278.0|\n",
      "+--------------------+----------------------+------------------+\n",
      "only showing top 5 rows\n",
      "\n"
     ]
    }
   ],
   "source": [
    "# We can do multiple measurement after grouping \n",
    "\n",
    "df.groupBy('food').mean('Nutrition Density', 'Caloric value').show(5)"
   ]
  },
  {
   "cell_type": "code",
   "execution_count": 44,
   "id": "f3aa8951",
   "metadata": {},
   "outputs": [
    {
     "name": "stdout",
     "output_type": "stream",
     "text": [
      "+-----------------+-------------+----+-------+-------------+-------------+-----+\n",
      "|Nutrition Density|Caloric Value| Fat|Protein|Carbohydrates|Dietary Fiber|count|\n",
      "+-----------------+-------------+----+-------+-------------+-------------+-----+\n",
      "|           381.08|          316|13.0|   15.9|         33.6|          4.1|    1|\n",
      "|           35.955|          162| 2.4|   33.1|          0.0|          0.0|    1|\n",
      "|            3.739|            8| 0.3|    0.6|          0.6|          0.0|    1|\n",
      "|            102.8|          404|14.0|   65.2|          0.0|          0.0|    1|\n",
      "+-----------------+-------------+----+-------+-------------+-------------+-----+\n",
      "only showing top 4 rows\n",
      "\n"
     ]
    }
   ],
   "source": [
    "# We can also group the dataframe by multiple columns \n",
    "\n",
    "df.groupBy('Nutrition Density', 'Caloric Value', 'Fat', 'Protein', 'Carbohydrates', 'Dietary Fiber').count().show(4)\n"
   ]
  },
  {
   "cell_type": "code",
   "execution_count": 47,
   "id": "6dee79f8",
   "metadata": {},
   "outputs": [
    {
     "name": "stdout",
     "output_type": "stream",
     "text": [
      "+---+----------+-----------------+-------------+----+--------------+--------------------+--------------------+-------------+------+-------+-------------+-----------+------+-----+---------+----------+-----------+-----------+----------+----------+----------+----------+---------+---------+---------+---------+-------+------+----+---------+---------+----------+---------+--------+----+-----------------+\n",
      "|_c0|Unnamed: 0|             food|Caloric Value| Fat|Saturated Fats|Monounsaturated Fats|Polyunsaturated Fats|Carbohydrates|Sugars|Protein|Dietary Fiber|Cholesterol|Sodium|Water|Vitamin A|Vitamin B1|Vitamin B11|Vitamin B12|Vitamin B2|Vitamin B3|Vitamin B5|Vitamin B6|Vitamin C|Vitamin D|Vitamin E|Vitamin K|Calcium|Copper|Iron|Magnesium|Manganese|Phosphorus|Potassium|Selenium|Zinc|Nutrition Density|\n",
      "+---+----------+-----------------+-------------+----+--------------+--------------------+--------------------+-------------+------+-------+-------------+-----------+------+-----+---------+----------+-----------+-----------+----------+----------+----------+----------+---------+---------+---------+---------+-------+------+----+---------+---------+----------+---------+--------+----+-----------------+\n",
      "| 11|        11|port salut cheese|          465|37.2|          22.0|                12.3|                 1.0|          0.8|   0.8|   31.4|          0.0|      162.4|   0.7| 60.0|      0.4|     0.012|      0.035|      0.067|       0.3|     0.019|       0.3|      0.08|      0.0|    0.057|      0.3|    0.094|  858.0| 0.062| 0.6|     31.7|    0.095|     475.2|    179.5|   0.015| 3.4|            928.4|\n",
      "| 17|        17|   gjetost cheese|         1058|67.0|          43.5|                17.9|                 2.1|         96.8|   0.0|   21.9|          0.0|      213.4|   1.4| 30.5|      0.8|       0.7|      0.076|      0.047|       3.1|       1.8|       7.6|       0.6|      0.0|      0.0|      0.0|      0.0|  908.0|   0.2| 1.2|    158.9|    0.035|    1007.9|   3198.4|   0.039| 2.6|           1095.7|\n",
      "| 21|        21|   asadero cheese|          402|31.9|          20.3|                 9.1|                 1.0|          3.2|   3.2|   25.5|          0.0|      118.7|   0.7| 47.6|    0.098|     0.034|      0.005|      0.043|       0.3|       0.2|       0.3|     0.024|      0.0|    0.071|      0.3|     0.02|  746.9| 0.067| 0.6|     29.4|    0.024|     500.6|     97.2|   0.096| 3.4|          808.175|\n",
      "| 24|        24| roquefort cheese|          314|26.0|          16.4|                 7.2|                 1.1|          1.7|   0.0|   18.3|          0.0|       76.5|   1.5| 33.5|      0.2|     0.092|      0.037|      0.002|       0.5|       0.6|       1.5|       0.1|      0.0|      0.0|      0.0|      0.0|  562.7| 0.005| 0.5|     25.5|    0.036|     333.2|     77.4|   0.081| 1.8|            609.4|\n",
      "+---+----------+-----------------+-------------+----+--------------+--------------------+--------------------+-------------+------+-------+-------------+-----------+------+-----+---------+----------+-----------+-----------+----------+----------+----------+----------+---------+---------+---------+---------+-------+------+----+---------+---------+----------+---------+--------+----+-----------------+\n",
      "only showing top 4 rows\n",
      "\n"
     ]
    }
   ],
   "source": [
    "# Here is another selection using filter with two conditions. \n",
    "\n",
    "df.filter((df['Fat'] > 20) & (df['Nutrition Density']>500)).show(4)"
   ]
  },
  {
   "cell_type": "code",
   "execution_count": 51,
   "id": "9c605ad6",
   "metadata": {},
   "outputs": [
    {
     "name": "stdout",
     "output_type": "stream",
     "text": [
      "+-------+------------------+------------------+------------------+------------------+------------------+------------------+\n",
      "|summary| Nutrition Density|     Caloric Value|               Fat|           Protein|     Carbohydrates|     Dietary Fiber|\n",
      "+-------+------------------+------------------+------------------+------------------+------------------+------------------+\n",
      "|  count|                 7|                 7|                 7|                 7|                 7|                 7|\n",
      "|   mean|          1098.941|503.14285714285717|29.157142857142862| 44.04285714285714|15.557142857142855|0.2857142857142857|\n",
      "| stddev|113.18650212665236|  278.027833481607|20.980932386562895|24.361845656877552|35.862229766280905|0.7559289460184545|\n",
      "|    min|            1019.4|               159|               0.0|              21.9|               0.0|               0.0|\n",
      "|    max|            1337.0|              1058|              67.0|              79.1|              96.8|               2.0|\n",
      "+-------+------------------+------------------+------------------+------------------+------------------+------------------+\n",
      "\n"
     ]
    }
   ],
   "source": [
    "# We can use descriptive measure on the filtered data\n",
    "\n",
    "df.filter(df['Nutrition Density']>=1000).describe('Nutrition Density', 'Caloric Value', 'Fat', 'Protein', 'Carbohydrates', 'Dietary Fiber').show()"
   ]
  },
  {
   "cell_type": "code",
   "execution_count": 53,
   "id": "43605f90",
   "metadata": {},
   "outputs": [
    {
     "name": "stdout",
     "output_type": "stream",
     "text": [
      "+-------+------------------+\n",
      "|summary|           Protein|\n",
      "+-------+------------------+\n",
      "|  count|                 7|\n",
      "|   mean| 44.04285714285714|\n",
      "| stddev|24.361845656877552|\n",
      "|    min|              21.9|\n",
      "|    25%|              27.7|\n",
      "|    50%|              33.8|\n",
      "|    75%|              79.1|\n",
      "|    max|              79.1|\n",
      "+-------+------------------+\n",
      "\n"
     ]
    }
   ],
   "source": [
    "# Here is a more complex one\n",
    "\n",
    "df.filter(df['Nutrition Density']>=1000).select('Protein').summary().show()\n"
   ]
  },
  {
   "cell_type": "code",
   "execution_count": 54,
   "id": "d04ea5a0",
   "metadata": {},
   "outputs": [
    {
     "name": "stdout",
     "output_type": "stream",
     "text": [
      "+-------+------------------+\n",
      "|summary|               Fat|\n",
      "+-------+------------------+\n",
      "|   mean|29.157142857142862|\n",
      "| stddev|20.980932386562895|\n",
      "+-------+------------------+\n",
      "\n"
     ]
    }
   ],
   "source": [
    "# Even more complex \n",
    "\n",
    "df.filter(df['Nutrition Density']>=1000).select('Fat').summary('mean', 'stddev').show()\n"
   ]
  },
  {
   "cell_type": "code",
   "execution_count": 55,
   "id": "6dbc1aa9",
   "metadata": {},
   "outputs": [
    {
     "name": "stdout",
     "output_type": "stream",
     "text": [
      "+-------+---+----------+----+-------------+---+--------------+--------------------+--------------------+-------------+------+-------+-------------+-----------+------+-----+---------+----------+-----------+-----------+----------+----------+----------+----------+---------+---------+---------+---------+-------+------+----+---------+---------+----------+---------+--------+----+-----------------+\n",
      "|summary|_c0|Unnamed: 0|food|Caloric Value|Fat|Saturated Fats|Monounsaturated Fats|Polyunsaturated Fats|Carbohydrates|Sugars|Protein|Dietary Fiber|Cholesterol|Sodium|Water|Vitamin A|Vitamin B1|Vitamin B11|Vitamin B12|Vitamin B2|Vitamin B3|Vitamin B5|Vitamin B6|Vitamin C|Vitamin D|Vitamin E|Vitamin K|Calcium|Copper|Iron|Magnesium|Manganese|Phosphorus|Potassium|Selenium|Zinc|Nutrition Density|\n",
      "+-------+---+----------+----+-------------+---+--------------+--------------------+--------------------+-------------+------+-------+-------------+-----------+------+-----+---------+----------+-----------+-----------+----------+----------+----------+----------+---------+---------+---------+---------+-------+------+----+---------+---------+----------+---------+--------+----+-----------------+\n",
      "|  count|  7|         7|   7|            7|  7|             7|                   7|                   7|            7|     7|      7|            7|          7|     7|    7|        7|         7|          7|          7|         7|         7|         7|         7|        7|        7|        7|        7|      7|     7|   7|        7|        7|         7|        7|       7|   7|                7|\n",
      "+-------+---+----------+----+-------------+---+--------------+--------------------+--------------------+-------------+------+-------+-------------+-----------+------+-----+---------+----------+-----------+-----------+----------+----------+----------+----------+---------+---------+---------+---------+-------+------+----+---------+---------+----------+---------+--------+----+-----------------+\n",
      "\n"
     ]
    }
   ],
   "source": [
    "# where is same as filter \n",
    "\n",
    "df.where(df['Nutrition Density']>=1000).summary('count').show()"
   ]
  },
  {
   "cell_type": "code",
   "execution_count": 58,
   "id": "2ab3c898",
   "metadata": {},
   "outputs": [],
   "source": [
    "# this provides an option to apply a function in the dataframe.\n",
    "\n",
    "from pyspark.sql import SparkSession  \n",
    "from pyspark.sql import functions as F "
   ]
  },
  {
   "cell_type": "code",
   "execution_count": 60,
   "id": "3cc6a526",
   "metadata": {},
   "outputs": [
    {
     "name": "stdout",
     "output_type": "stream",
     "text": [
      "+---+----------+--------------------+-------------+----+--------------+--------------------+--------------------+-------------+------+-------+-------------+-----------+------+-----+---------+----------+-----------+-----------+----------+----------+----------+----------+---------+---------+---------+---------+-------+------+-----+---------+---------+----------+---------+--------+-----+-----------------+--------------------+\n",
      "|_c0|Unnamed: 0|                food|Caloric Value| Fat|Saturated Fats|Monounsaturated Fats|Polyunsaturated Fats|Carbohydrates|Sugars|Protein|Dietary Fiber|Cholesterol|Sodium|Water|Vitamin A|Vitamin B1|Vitamin B11|Vitamin B12|Vitamin B2|Vitamin B3|Vitamin B5|Vitamin B6|Vitamin C|Vitamin D|Vitamin E|Vitamin K|Calcium|Copper| Iron|Magnesium|Manganese|Phosphorus|Potassium|Selenium| Zinc|Nutrition Density|   Nutritional Value|\n",
      "+---+----------+--------------------+-------------+----+--------------+--------------------+--------------------+-------------+------+-------+-------------+-----------+------+-----+---------+----------+-----------+-----------+----------+----------+----------+----------+---------+---------+---------+---------+-------+------+-----+---------+---------+----------+---------+--------+-----+-----------------+--------------------+\n",
      "|  0|         0|        cream cheese|           51| 5.0|           2.9|                 1.3|                 0.2|          0.8|   0.5|    0.9|          0.0|       14.6| 0.016|  7.6|      0.2|     0.033|      0.064|      0.092|     0.097|     0.084|     0.052|     0.096|    0.004|      0.0|      0.0|      0.1|  0.008|  14.1|0.082|    0.027|      1.3|     0.091|     15.5|    19.1|0.039|             7.07|less nutritional ...|\n",
      "|  1|         1|   neufchatel cheese|          215|19.4|          10.9|                 4.9|                 0.8|          3.1|   2.7|    7.8|          0.0|       62.9|   0.3| 53.6|      0.2|     0.099|      0.079|       0.09|       0.1|       0.2|       0.5|     0.078|      0.0|      0.0|      0.3|    0.045|   99.5| 0.034|  0.1|      8.5|    0.088|     117.3|    129.2|   0.054|  0.7|            130.1|less nutritional ...|\n",
      "|  2|         2|requeijao cremoso...|           49| 3.6|           2.3|                 0.9|                 0.0|          0.9|   3.4|    0.8|          0.1|        0.0|   0.0|  0.0|      0.0|       0.0|        0.0|        0.0|       0.0|       0.0|       0.0|       0.0|      0.0|      0.0|      0.0|      0.0|    0.0|   0.0|  0.0|      0.0|      0.0|       0.0|      0.0|     0.0|  0.0|              5.4|less nutritional ...|\n",
      "|  3|         3|      ricotta cheese|           30| 2.0|           1.3|                 0.5|               0.002|          1.5| 0.091|    1.5|          0.0|        9.8| 0.017| 14.7|    0.075|     0.019|      0.079|      0.091|     0.027|     0.041|     0.016|     0.007|    0.006|      0.0|    0.001|    0.011|  0.097|  41.2|0.097|    0.096|      4.0|     0.024|     30.8|    43.8|0.035|            5.196|less nutritional ...|\n",
      "+---+----------+--------------------+-------------+----+--------------+--------------------+--------------------+-------------+------+-------+-------------+-----------+------+-----+---------+----------+-----------+-----------+----------+----------+----------+----------+---------+---------+---------+---------+-------+------+-----+---------+---------+----------+---------+--------+-----+-----------------+--------------------+\n",
      "only showing top 4 rows\n",
      "\n"
     ]
    }
   ],
   "source": [
    "# First we create a function \n",
    "\n",
    "# Define the classification function using Spark SQL functions  \n",
    "def classify_nutrition_density(nutrition_density):  \n",
    "    return (  \n",
    "        F.when(nutrition_density < 250, 'less nutritional value')  \n",
    "        .when((nutrition_density >= 250) & (nutrition_density < 1000), 'moderate nutritional value')  \n",
    "        .otherwise('High nutritional value')  \n",
    "    )  \n",
    "\n",
    "# Apply the function to create a new column in the DataFrame  \n",
    "df_with_classification = df.withColumn(\"Nutritional Value\", classify_nutrition_density(df[\"Nutrition Density\"]))  \n",
    "\n",
    "# Show the results  \n",
    "df_with_classification.show(4)  "
   ]
  },
  {
   "cell_type": "code",
   "execution_count": 62,
   "id": "ea943452",
   "metadata": {},
   "outputs": [],
   "source": [
    "# We can split the dataset in the given fraction \n",
    "# This can be useful for cross validation \n",
    "\n",
    "train, valid, test = df.randomSplit([3.0, 1.0, 1.0], 42)\n"
   ]
  },
  {
   "cell_type": "code",
   "execution_count": 63,
   "id": "75e53494",
   "metadata": {},
   "outputs": [
    {
     "name": "stdout",
     "output_type": "stream",
     "text": [
      "+---+----------+--------------------+-------------+---+--------------+--------------------+--------------------+-------------+------+-------+-------------+-----------+------+-----+---------+----------+-----------+-----------+----------+----------+----------+----------+---------+---------+---------+---------+-------+------+-----+---------+---------+----------+---------+--------+----+-----------------+\n",
      "|_c0|Unnamed: 0|                food|Caloric Value|Fat|Saturated Fats|Monounsaturated Fats|Polyunsaturated Fats|Carbohydrates|Sugars|Protein|Dietary Fiber|Cholesterol|Sodium|Water|Vitamin A|Vitamin B1|Vitamin B11|Vitamin B12|Vitamin B2|Vitamin B3|Vitamin B5|Vitamin B6|Vitamin C|Vitamin D|Vitamin E|Vitamin K|Calcium|Copper| Iron|Magnesium|Manganese|Phosphorus|Potassium|Selenium|Zinc|Nutrition Density|\n",
      "+---+----------+--------------------+-------------+---+--------------+--------------------+--------------------+-------------+------+-------+-------------+-----------+------+-----+---------+----------+-----------+-----------+----------+----------+----------+----------+---------+---------+---------+---------+-------+------+-----+---------+---------+----------+---------+--------+----+-----------------+\n",
      "|  2|         2|requeijao cremoso...|           49|3.6|           2.3|                 0.9|                 0.0|          0.9|   3.4|    0.8|          0.1|        0.0|   0.0|  0.0|      0.0|       0.0|        0.0|        0.0|       0.0|       0.0|       0.0|       0.0|      0.0|      0.0|      0.0|      0.0|    0.0|   0.0|  0.0|      0.0|      0.0|       0.0|      0.0|     0.0| 0.0|              5.4|\n",
      "|  6|         6|      gruyere cheese|          116|9.1|           5.3|                 2.8|                 0.5|          0.1|   0.1|    8.3|          0.0|       30.8|   0.2|  9.3|    0.061|     0.021|      0.072|      0.078|     0.004|     0.043|       0.2|     0.051|      0.0|    0.034|    0.035|    0.048|  283.1| 0.033|0.094|     10.1|    0.002|     169.4|     22.7|   0.079| 1.1|          300.694|\n",
      "|  8|         8|     parmesan cheese|           71|4.5|           2.7|                 1.4|                 0.1|          0.6| 0.046|    6.4|          0.0|       12.2|   0.2|  5.4|    0.067|     0.062|      0.099|      0.059|     0.057|     0.039|      0.06|     0.066|      0.0|    0.095|    0.018|    0.021|  213.1| 0.051|  0.1|      7.9|    0.073|     124.9|     16.6|   0.045| 0.5|          224.777|\n",
      "+---+----------+--------------------+-------------+---+--------------+--------------------+--------------------+-------------+------+-------+-------------+-----------+------+-----+---------+----------+-----------+-----------+----------+----------+----------+----------+---------+---------+---------+---------+-------+------+-----+---------+---------+----------+---------+--------+----+-----------------+\n",
      "only showing top 3 rows\n",
      "\n"
     ]
    }
   ],
   "source": [
    "test.show(3)"
   ]
  },
  {
   "cell_type": "code",
   "execution_count": null,
   "id": "c5ca24d1",
   "metadata": {},
   "outputs": [],
   "source": []
  }
 ],
 "metadata": {
  "kernelspec": {
   "display_name": "Python 3 (ipykernel)",
   "language": "python",
   "name": "python3"
  },
  "language_info": {
   "codemirror_mode": {
    "name": "ipython",
    "version": 3
   },
   "file_extension": ".py",
   "mimetype": "text/x-python",
   "name": "python",
   "nbconvert_exporter": "python",
   "pygments_lexer": "ipython3",
   "version": "3.11.5"
  }
 },
 "nbformat": 4,
 "nbformat_minor": 5
}
